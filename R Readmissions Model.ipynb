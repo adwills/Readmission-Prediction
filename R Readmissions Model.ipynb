{
 "cells": [
  {
   "cell_type": "markdown",
   "metadata": {},
   "source": [
    "# Native R Modeling"
   ]
  },
  {
   "cell_type": "markdown",
   "metadata": {},
   "source": [
    "This notebook demonstrates how an R programmer can interact with data in CAS - running CAS actions in memory throught SWAT (SAS' Scripting Wrapper for Analytics Transfer), pulling data into R for execution of native packages, and publishing results back to CAS for use with other SAS Viya interfaces."
   ]
  },
  {
   "cell_type": "markdown",
   "metadata": {},
   "source": [
    "### Load SWAT and Other R Libraries; Connect CAS Session"
   ]
  },
  {
   "cell_type": "code",
   "execution_count": 1,
   "metadata": {},
   "outputs": [
    {
     "name": "stderr",
     "output_type": "stream",
     "text": [
      "SWAT 1.4.0\n",
      "Loading required package: gplots\n",
      "\n",
      "Attaching package: ‘gplots’\n",
      "\n",
      "The following object is masked from ‘package:stats’:\n",
      "\n",
      "    lowess\n",
      "\n",
      "Type 'citation(\"pROC\")' for a citation.\n",
      "\n",
      "Attaching package: ‘pROC’\n",
      "\n",
      "The following object is masked from ‘package:swat’:\n",
      "\n",
      "    cov\n",
      "\n",
      "The following objects are masked from ‘package:stats’:\n",
      "\n",
      "    cov, smooth, var\n",
      "\n",
      "\n",
      "Attaching package: ‘dplyr’\n",
      "\n",
      "The following objects are masked from ‘package:stats’:\n",
      "\n",
      "    filter, lag\n",
      "\n",
      "The following objects are masked from ‘package:base’:\n",
      "\n",
      "    intersect, setdiff, setequal, union\n",
      "\n",
      "NOTE: Connecting to CAS and generating CAS action functions for loaded\n",
      "      action sets...\n",
      "NOTE: To generate the functions with signatures (for tab completion), set \n",
      "      options(cas.gen.function.sig=TRUE).\n"
     ]
    }
   ],
   "source": [
    "library(swat)\n",
    "library(ROCR)\n",
    "library(pROC)\n",
    "library(ggplot2)\n",
    "library(dplyr)\n",
    "conn <- CAS(\"ip-10-249-7-213.ec2.internal\", 5570, user=\"anddwi\",password=\"Orion123\")"
   ]
  },
  {
   "cell_type": "markdown",
   "metadata": {},
   "source": [
    "### Store CASLIB Information in an R Variable"
   ]
  },
  {
   "cell_type": "code",
   "execution_count": 3,
   "metadata": {},
   "outputs": [
    {
     "name": "stderr",
     "output_type": "stream",
     "text": [
      "NOTE: 'Public' is now the active caslib.\n"
     ]
    },
    {
     "data": {
      "text/html": [
       "<ol>\n",
       "</ol>\n"
      ],
      "text/latex": [
       "\\begin{enumerate}\n",
       "\\end{enumerate}\n"
      ],
      "text/markdown": [
       "\n",
       "\n"
      ],
      "text/plain": [
       "list()"
      ]
     },
     "metadata": {},
     "output_type": "display_data"
    }
   ],
   "source": [
    "cas.sessionProp.setSessOpt(conn,caslib='PUBLIC')\n",
    "currentCaslib <- 'PUBLIC'"
   ]
  },
  {
   "cell_type": "markdown",
   "metadata": {},
   "source": [
    "### SWAT Functions for Table Information"
   ]
  },
  {
   "cell_type": "code",
   "execution_count": 4,
   "metadata": {},
   "outputs": [
    {
     "data": {
      "text/html": [
       "<strong>$TableInfo</strong> = <table>\n",
       "<thead><tr><th scope=col>Name</th><th scope=col>Rows</th><th scope=col>Columns</th><th scope=col>IndexedColumns</th><th scope=col>Encoding</th><th scope=col>CreateTimeFormatted</th><th scope=col>ModTimeFormatted</th><th scope=col>AccessTimeFormatted</th><th scope=col>JavaCharSet</th><th scope=col>CreateTime</th><th scope=col>⋯</th><th scope=col>Global</th><th scope=col>Repeated</th><th scope=col>View</th><th scope=col>SourceName</th><th scope=col>SourceCaslib</th><th scope=col>Compressed</th><th scope=col>Creator</th><th scope=col>Modifier</th><th scope=col>SourceModTimeFormatted</th><th scope=col>SourceModTime</th></tr></thead>\n",
       "<tbody>\n",
       "\t<tr><td>READMISSIONS_FINAL        </td><td>75675                     </td><td>40                        </td><td>0                         </td><td>utf-8                     </td><td>2019-01-14T08:55:50-05:00 </td><td>2019-01-14T08:55:50-05:00 </td><td>2019-01-14T08:55:50-05:00 </td><td>UTF8                      </td><td>1863093350                </td><td>⋯                         </td><td>1                         </td><td>0                         </td><td>0                         </td><td>READMISSIONS_FINAL.sashdat</td><td>Public                    </td><td>0                         </td><td>anddwi                    </td><td>                          </td><td>2019-01-09T14:33:56-05:00 </td><td>1862681636                </td></tr>\n",
       "\t<tr><td>READMISSIONS_RAW          </td><td>75675                     </td><td>40                        </td><td>0                         </td><td>utf-8                     </td><td>2019-01-14T08:55:59-05:00 </td><td>2019-01-14T08:55:59-05:00 </td><td>2019-01-14T08:58:11-05:00 </td><td>UTF8                      </td><td>1863093359                </td><td>⋯                         </td><td>1                         </td><td>0                         </td><td>0                         </td><td>READMISSIONS_RAW.sashdat  </td><td>Public                    </td><td>0                         </td><td>anddwi                    </td><td>                          </td><td>2019-01-10T08:55:01-05:00 </td><td>1862747701                </td></tr>\n",
       "\t<tr><td>READMISSIONSSCORED_1      </td><td>75675                     </td><td>40                        </td><td>0                         </td><td>utf-8                     </td><td>2019-01-14T08:58:10-05:00 </td><td>2019-01-14T08:58:10-05:00 </td><td>2019-01-14T08:58:10-05:00 </td><td>UTF8                      </td><td>1863093490                </td><td>⋯                         </td><td>1                         </td><td>0                         </td><td>0                         </td><td>                          </td><td>                          </td><td>0                         </td><td>anddwi                    </td><td>                          </td><td>                          </td><td>       NaN                </td></tr>\n",
       "\t<tr><td>READMISSIONSSCORED_2      </td><td>75675                     </td><td>40                        </td><td>0                         </td><td>utf-8                     </td><td>2019-01-14T08:58:11-05:00 </td><td>2019-01-14T08:58:11-05:00 </td><td>2019-01-14T08:58:11-05:00 </td><td>UTF8                      </td><td>1863093491                </td><td>⋯                         </td><td>1                         </td><td>0                         </td><td>0                         </td><td>                          </td><td>                          </td><td>0                         </td><td>anddwi                    </td><td>                          </td><td>                          </td><td>       NaN                </td></tr>\n",
       "\t<tr><td>READMISSIONSSCORED_3      </td><td>75675                     </td><td>40                        </td><td>0                         </td><td>utf-8                     </td><td>2019-01-14T08:58:11-05:00 </td><td>2019-01-14T08:58:11-05:00 </td><td>2019-01-14T08:58:11-05:00 </td><td>UTF8                      </td><td>1863093491                </td><td>⋯                         </td><td>1                         </td><td>0                         </td><td>0                         </td><td>                          </td><td>                          </td><td>0                         </td><td>anddwi                    </td><td>                          </td><td>                          </td><td>       NaN                </td></tr>\n",
       "\t<tr><td>READMISSIONSSCORED_4      </td><td>75675                     </td><td>40                        </td><td>0                         </td><td>utf-8                     </td><td>2019-01-14T08:58:11-05:00 </td><td>2019-01-14T08:58:11-05:00 </td><td>2019-01-14T08:58:11-05:00 </td><td>UTF8                      </td><td>1863093491                </td><td>⋯                         </td><td>1                         </td><td>0                         </td><td>0                         </td><td>                          </td><td>                          </td><td>0                         </td><td>anddwi                    </td><td>                          </td><td>                          </td><td>       NaN                </td></tr>\n",
       "</tbody>\n",
       "</table>\n"
      ],
      "text/latex": [
       "\\textbf{\\$TableInfo} = \\begin{tabular}{r|llllllllllllllllllllll}\n",
       " Name & Rows & Columns & IndexedColumns & Encoding & CreateTimeFormatted & ModTimeFormatted & AccessTimeFormatted & JavaCharSet & CreateTime & ⋯ & Global & Repeated & View & SourceName & SourceCaslib & Compressed & Creator & Modifier & SourceModTimeFormatted & SourceModTime\\\\\n",
       "\\hline\n",
       "\t READMISSIONS\\_FINAL         & 75675                        & 40                           & 0                            & utf-8                        & 2019-01-14T08:55:50-05:00    & 2019-01-14T08:55:50-05:00    & 2019-01-14T08:55:50-05:00    & UTF8                         & 1863093350                   & ⋯                            & 1                            & 0                            & 0                            & READMISSIONS\\_FINAL.sashdat & Public                       & 0                            & anddwi                       &                              & 2019-01-09T14:33:56-05:00    & 1862681636                  \\\\\n",
       "\t READMISSIONS\\_RAW           & 75675                        & 40                           & 0                            & utf-8                        & 2019-01-14T08:55:59-05:00    & 2019-01-14T08:55:59-05:00    & 2019-01-14T08:58:11-05:00    & UTF8                         & 1863093359                   & ⋯                            & 1                            & 0                            & 0                            & READMISSIONS\\_RAW.sashdat   & Public                       & 0                            & anddwi                       &                              & 2019-01-10T08:55:01-05:00    & 1862747701                  \\\\\n",
       "\t READMISSIONSSCORED\\_1     & 75675                      & 40                         & 0                          & utf-8                      & 2019-01-14T08:58:10-05:00  & 2019-01-14T08:58:10-05:00  & 2019-01-14T08:58:10-05:00  & UTF8                       & 1863093490                 & ⋯                          & 1                          & 0                          & 0                          &                            &                            & 0                          & anddwi                     &                            &                            &        NaN                \\\\\n",
       "\t READMISSIONSSCORED\\_2     & 75675                      & 40                         & 0                          & utf-8                      & 2019-01-14T08:58:11-05:00  & 2019-01-14T08:58:11-05:00  & 2019-01-14T08:58:11-05:00  & UTF8                       & 1863093491                 & ⋯                          & 1                          & 0                          & 0                          &                            &                            & 0                          & anddwi                     &                            &                            &        NaN                \\\\\n",
       "\t READMISSIONSSCORED\\_3     & 75675                      & 40                         & 0                          & utf-8                      & 2019-01-14T08:58:11-05:00  & 2019-01-14T08:58:11-05:00  & 2019-01-14T08:58:11-05:00  & UTF8                       & 1863093491                 & ⋯                          & 1                          & 0                          & 0                          &                            &                            & 0                          & anddwi                     &                            &                            &        NaN                \\\\\n",
       "\t READMISSIONSSCORED\\_4     & 75675                      & 40                         & 0                          & utf-8                      & 2019-01-14T08:58:11-05:00  & 2019-01-14T08:58:11-05:00  & 2019-01-14T08:58:11-05:00  & UTF8                       & 1863093491                 & ⋯                          & 1                          & 0                          & 0                          &                            &                            & 0                          & anddwi                     &                            &                            &        NaN                \\\\\n",
       "\\end{tabular}\n"
      ],
      "text/markdown": [
       "**$TableInfo** = \n",
       "Name | Rows | Columns | IndexedColumns | Encoding | CreateTimeFormatted | ModTimeFormatted | AccessTimeFormatted | JavaCharSet | CreateTime | ⋯ | Global | Repeated | View | SourceName | SourceCaslib | Compressed | Creator | Modifier | SourceModTimeFormatted | SourceModTime | \n",
       "|---|---|---|---|---|---|\n",
       "| READMISSIONS_FINAL         | 75675                      | 40                         | 0                          | utf-8                      | 2019-01-14T08:55:50-05:00  | 2019-01-14T08:55:50-05:00  | 2019-01-14T08:55:50-05:00  | UTF8                       | 1863093350                 | ⋯                          | 1                          | 0                          | 0                          | READMISSIONS_FINAL.sashdat | Public                     | 0                          | anddwi                     |                            | 2019-01-09T14:33:56-05:00  | 1862681636                 | \n",
       "| READMISSIONS_RAW           | 75675                      | 40                         | 0                          | utf-8                      | 2019-01-14T08:55:59-05:00  | 2019-01-14T08:55:59-05:00  | 2019-01-14T08:58:11-05:00  | UTF8                       | 1863093359                 | ⋯                          | 1                          | 0                          | 0                          | READMISSIONS_RAW.sashdat   | Public                     | 0                          | anddwi                     |                            | 2019-01-10T08:55:01-05:00  | 1862747701                 | \n",
       "| READMISSIONSSCORED_1       | 75675                      | 40                         | 0                          | utf-8                      | 2019-01-14T08:58:10-05:00  | 2019-01-14T08:58:10-05:00  | 2019-01-14T08:58:10-05:00  | UTF8                       | 1863093490                 | ⋯                          | 1                          | 0                          | 0                          |                            |                            | 0                          | anddwi                     |                            |                            |        NaN                 | \n",
       "| READMISSIONSSCORED_2       | 75675                      | 40                         | 0                          | utf-8                      | 2019-01-14T08:58:11-05:00  | 2019-01-14T08:58:11-05:00  | 2019-01-14T08:58:11-05:00  | UTF8                       | 1863093491                 | ⋯                          | 1                          | 0                          | 0                          |                            |                            | 0                          | anddwi                     |                            |                            |        NaN                 | \n",
       "| READMISSIONSSCORED_3       | 75675                      | 40                         | 0                          | utf-8                      | 2019-01-14T08:58:11-05:00  | 2019-01-14T08:58:11-05:00  | 2019-01-14T08:58:11-05:00  | UTF8                       | 1863093491                 | ⋯                          | 1                          | 0                          | 0                          |                            |                            | 0                          | anddwi                     |                            |                            |        NaN                 | \n",
       "| READMISSIONSSCORED_4       | 75675                      | 40                         | 0                          | utf-8                      | 2019-01-14T08:58:11-05:00  | 2019-01-14T08:58:11-05:00  | 2019-01-14T08:58:11-05:00  | UTF8                       | 1863093491                 | ⋯                          | 1                          | 0                          | 0                          |                            |                            | 0                          | anddwi                     |                            |                            |        NaN                 | \n",
       "\n",
       "\n"
      ],
      "text/plain": [
       "$TableInfo\n",
       "                  Name  Rows Columns IndexedColumns Encoding\n",
       "1   READMISSIONS_FINAL 75675      40              0    utf-8\n",
       "2     READMISSIONS_RAW 75675      40              0    utf-8\n",
       "3 READMISSIONSSCORED_1 75675      40              0    utf-8\n",
       "4 READMISSIONSSCORED_2 75675      40              0    utf-8\n",
       "5 READMISSIONSSCORED_3 75675      40              0    utf-8\n",
       "6 READMISSIONSSCORED_4 75675      40              0    utf-8\n",
       "        CreateTimeFormatted          ModTimeFormatted       AccessTimeFormatted\n",
       "1 2019-01-14T08:55:50-05:00 2019-01-14T08:55:50-05:00 2019-01-14T08:55:50-05:00\n",
       "2 2019-01-14T08:55:59-05:00 2019-01-14T08:55:59-05:00 2019-01-14T08:58:11-05:00\n",
       "3 2019-01-14T08:58:10-05:00 2019-01-14T08:58:10-05:00 2019-01-14T08:58:10-05:00\n",
       "4 2019-01-14T08:58:11-05:00 2019-01-14T08:58:11-05:00 2019-01-14T08:58:11-05:00\n",
       "5 2019-01-14T08:58:11-05:00 2019-01-14T08:58:11-05:00 2019-01-14T08:58:11-05:00\n",
       "6 2019-01-14T08:58:11-05:00 2019-01-14T08:58:11-05:00 2019-01-14T08:58:11-05:00\n",
       "  JavaCharSet CreateTime    ModTime AccessTime Global Repeated View\n",
       "1        UTF8 1863093350 1863093350 1863093350      1        0    0\n",
       "2        UTF8 1863093359 1863093359 1863093491      1        0    0\n",
       "3        UTF8 1863093490 1863093490 1863093490      1        0    0\n",
       "4        UTF8 1863093491 1863093491 1863093491      1        0    0\n",
       "5        UTF8 1863093491 1863093491 1863093491      1        0    0\n",
       "6        UTF8 1863093491 1863093491 1863093491      1        0    0\n",
       "                  SourceName SourceCaslib Compressed Creator Modifier\n",
       "1 READMISSIONS_FINAL.sashdat       Public          0  anddwi         \n",
       "2   READMISSIONS_RAW.sashdat       Public          0  anddwi         \n",
       "3                                                  0  anddwi         \n",
       "4                                                  0  anddwi         \n",
       "5                                                  0  anddwi         \n",
       "6                                                  0  anddwi         \n",
       "     SourceModTimeFormatted SourceModTime\n",
       "1 2019-01-09T14:33:56-05:00    1862681636\n",
       "2 2019-01-10T08:55:01-05:00    1862747701\n",
       "3                                     NaN\n",
       "4                                     NaN\n",
       "5                                     NaN\n",
       "6                                     NaN\n"
      ]
     },
     "metadata": {},
     "output_type": "display_data"
    }
   ],
   "source": [
    "cas.table.tableInfo(conn,caslib=currentCaslib)"
   ]
  },
  {
   "cell_type": "code",
   "execution_count": 5,
   "metadata": {},
   "outputs": [
    {
     "data": {
      "text/html": [
       "<table>\n",
       "<thead><tr><th scope=col>City_Lat</th><th scope=col>City_Long</th><th scope=col>Hospital_LAT</th><th scope=col>Hospital_LONG</th><th scope=col>Hospital_Name</th><th scope=col>Hospital_State</th><th scope=col>diagnosis</th><th scope=col>Patient_Number</th><th scope=col>DV_Readmit_Flag</th><th scope=col>Admit_Date</th><th scope=col>⋯</th><th scope=col>CITY</th><th scope=col>STATE</th><th scope=col>Postcode</th><th scope=col>address</th><th scope=col>PatientID</th><th scope=col>Patient_LON</th><th scope=col>Patient_LAT</th><th scope=col>Contact_Preference</th><th scope=col>Email</th><th scope=col>Phone</th></tr></thead>\n",
       "<tbody>\n",
       "\t<tr><td>28.02194                            </td><td>-81.73307                           </td><td>28.02194                            </td><td>-81.73307                           </td><td>WINTER HAVEN HOSPITAL               </td><td>FL                                  </td><td>COPD                                </td><td>3616875575                          </td><td>0                                   </td><td>20328                               </td><td>⋯                                   </td><td>WINTER HAVEN                        </td><td>FL                                  </td><td>33880                               </td><td>3710      IMPERIAL DR               </td><td>3616875575                          </td><td>-81.78762                           </td><td>27.99263                            </td><td>email                               </td><td>3616875575@WINTER HAVEN HOSPITAL.com</td><td>(099)431-5552                       </td></tr>\n",
       "\t<tr><td>28.02194                            </td><td>-81.73307                           </td><td>28.02194                            </td><td>-81.73307                           </td><td>WINTER HAVEN HOSPITAL               </td><td>FL                                  </td><td>COPD                                </td><td>3641618231                          </td><td>1                                   </td><td>19561                               </td><td>⋯                                   </td><td>WINTER HAVEN                        </td><td>FL                                  </td><td>33880                               </td><td>3550      US HIGHWAY 17             </td><td>3641618231                          </td><td>-81.73206                           </td><td>28.05979                            </td><td>phone                               </td><td>3641618231@WINTER HAVEN HOSPITAL.com</td><td>(034)373-8870                       </td></tr>\n",
       "\t<tr><td>28.02194                            </td><td>-81.73307                           </td><td>28.02194                            </td><td>-81.73307                           </td><td>WINTER HAVEN HOSPITAL               </td><td>FL                                  </td><td>COPD                                </td><td>3921618827                          </td><td>0                                   </td><td>20460                               </td><td>⋯                                   </td><td>WINTER HAVEN                        </td><td>FL                                  </td><td>33880                               </td><td>1460      NW 36TH ST                </td><td>3921618827                          </td><td>-81.76975                           </td><td>28.03913                            </td><td>email                               </td><td>3921618827@WINTER HAVEN HOSPITAL.com</td><td>(519)121-6393                       </td></tr>\n",
       "\t<tr><td>28.02194                            </td><td>-81.73307                           </td><td>28.02194                            </td><td>-81.73307                           </td><td>WINTER HAVEN HOSPITAL               </td><td>FL                                  </td><td>COPD                                </td><td>3974421613                          </td><td>1                                   </td><td>20189                               </td><td>⋯                                   </td><td>WINTER HAVEN                        </td><td>FL                                  </td><td>33880                               </td><td>815       INDIAN BLF                </td><td>3974421613                          </td><td>-81.82273                           </td><td>28.01230                            </td><td>phone                               </td><td>3974421613@WINTER HAVEN HOSPITAL.com</td><td>(740)476-7728                       </td></tr>\n",
       "\t<tr><td>28.02194                            </td><td>-81.73307                           </td><td>28.02194                            </td><td>-81.73307                           </td><td>WINTER HAVEN HOSPITAL               </td><td>FL                                  </td><td>COPD                                </td><td>4175390240                          </td><td>0                                   </td><td>20508                               </td><td>⋯                                   </td><td>WINTER HAVEN                        </td><td>FL                                  </td><td>33880                               </td><td>405       AVENUE B E                </td><td>4175390240                          </td><td>-81.72135                           </td><td>27.95242                            </td><td>text                                </td><td>4175390240@WINTER HAVEN HOSPITAL.com</td><td>(821)257-2454                       </td></tr>\n",
       "\t<tr><td>28.02194                            </td><td>-81.73307                           </td><td>28.02194                            </td><td>-81.73307                           </td><td>WINTER HAVEN HOSPITAL               </td><td>FL                                  </td><td>COPD                                </td><td>4229141448                          </td><td>0                                   </td><td>20184                               </td><td>⋯                                   </td><td>WINTER HAVEN                        </td><td>FL                                  </td><td>33880                               </td><td>520       NW LEE AVE                </td><td>4229141448                          </td><td>-81.73193                           </td><td>28.03380                            </td><td>email                               </td><td>4229141448@WINTER HAVEN HOSPITAL.com</td><td>(909)514-7356                       </td></tr>\n",
       "</tbody>\n",
       "</table>\n"
      ],
      "text/latex": [
       "\\begin{tabular}{r|llllllllllllllllllllllllllllllllllllllll}\n",
       " City\\_Lat & City\\_Long & Hospital\\_LAT & Hospital\\_LONG & Hospital\\_Name & Hospital\\_State & diagnosis & Patient\\_Number & DV\\_Readmit\\_Flag & Admit\\_Date & ⋯ & CITY & STATE & Postcode & address & PatientID & Patient\\_LON & Patient\\_LAT & Contact\\_Preference & Email & Phone\\\\\n",
       "\\hline\n",
       "\t 28.02194                             & -81.73307                            & 28.02194                             & -81.73307                            & WINTER HAVEN HOSPITAL                & FL                                   & COPD                                 & 3616875575                           & 0                                    & 20328                                & ⋯                                    & WINTER HAVEN                         & FL                                   & 33880                                & 3710      IMPERIAL DR                & 3616875575                           & -81.78762                            & 27.99263                             & email                                & 3616875575@WINTER HAVEN HOSPITAL.com & (099)431-5552                       \\\\\n",
       "\t 28.02194                             & -81.73307                            & 28.02194                             & -81.73307                            & WINTER HAVEN HOSPITAL                & FL                                   & COPD                                 & 3641618231                           & 1                                    & 19561                                & ⋯                                    & WINTER HAVEN                         & FL                                   & 33880                                & 3550      US HIGHWAY 17              & 3641618231                           & -81.73206                            & 28.05979                             & phone                                & 3641618231@WINTER HAVEN HOSPITAL.com & (034)373-8870                       \\\\\n",
       "\t 28.02194                             & -81.73307                            & 28.02194                             & -81.73307                            & WINTER HAVEN HOSPITAL                & FL                                   & COPD                                 & 3921618827                           & 0                                    & 20460                                & ⋯                                    & WINTER HAVEN                         & FL                                   & 33880                                & 1460      NW 36TH ST                 & 3921618827                           & -81.76975                            & 28.03913                             & email                                & 3921618827@WINTER HAVEN HOSPITAL.com & (519)121-6393                       \\\\\n",
       "\t 28.02194                             & -81.73307                            & 28.02194                             & -81.73307                            & WINTER HAVEN HOSPITAL                & FL                                   & COPD                                 & 3974421613                           & 1                                    & 20189                                & ⋯                                    & WINTER HAVEN                         & FL                                   & 33880                                & 815       INDIAN BLF                 & 3974421613                           & -81.82273                            & 28.01230                             & phone                                & 3974421613@WINTER HAVEN HOSPITAL.com & (740)476-7728                       \\\\\n",
       "\t 28.02194                             & -81.73307                            & 28.02194                             & -81.73307                            & WINTER HAVEN HOSPITAL                & FL                                   & COPD                                 & 4175390240                           & 0                                    & 20508                                & ⋯                                    & WINTER HAVEN                         & FL                                   & 33880                                & 405       AVENUE B E                 & 4175390240                           & -81.72135                            & 27.95242                             & text                                 & 4175390240@WINTER HAVEN HOSPITAL.com & (821)257-2454                       \\\\\n",
       "\t 28.02194                             & -81.73307                            & 28.02194                             & -81.73307                            & WINTER HAVEN HOSPITAL                & FL                                   & COPD                                 & 4229141448                           & 0                                    & 20184                                & ⋯                                    & WINTER HAVEN                         & FL                                   & 33880                                & 520       NW LEE AVE                 & 4229141448                           & -81.73193                            & 28.03380                             & email                                & 4229141448@WINTER HAVEN HOSPITAL.com & (909)514-7356                       \\\\\n",
       "\\end{tabular}\n"
      ],
      "text/markdown": [
       "\n",
       "City_Lat | City_Long | Hospital_LAT | Hospital_LONG | Hospital_Name | Hospital_State | diagnosis | Patient_Number | DV_Readmit_Flag | Admit_Date | ⋯ | CITY | STATE | Postcode | address | PatientID | Patient_LON | Patient_LAT | Contact_Preference | Email | Phone | \n",
       "|---|---|---|---|---|---|\n",
       "| 28.02194                             | -81.73307                            | 28.02194                             | -81.73307                            | WINTER HAVEN HOSPITAL                | FL                                   | COPD                                 | 3616875575                           | 0                                    | 20328                                | ⋯                                    | WINTER HAVEN                         | FL                                   | 33880                                | 3710      IMPERIAL DR                | 3616875575                           | -81.78762                            | 27.99263                             | email                                | 3616875575@WINTER HAVEN HOSPITAL.com | (099)431-5552                        | \n",
       "| 28.02194                             | -81.73307                            | 28.02194                             | -81.73307                            | WINTER HAVEN HOSPITAL                | FL                                   | COPD                                 | 3641618231                           | 1                                    | 19561                                | ⋯                                    | WINTER HAVEN                         | FL                                   | 33880                                | 3550      US HIGHWAY 17              | 3641618231                           | -81.73206                            | 28.05979                             | phone                                | 3641618231@WINTER HAVEN HOSPITAL.com | (034)373-8870                        | \n",
       "| 28.02194                             | -81.73307                            | 28.02194                             | -81.73307                            | WINTER HAVEN HOSPITAL                | FL                                   | COPD                                 | 3921618827                           | 0                                    | 20460                                | ⋯                                    | WINTER HAVEN                         | FL                                   | 33880                                | 1460      NW 36TH ST                 | 3921618827                           | -81.76975                            | 28.03913                             | email                                | 3921618827@WINTER HAVEN HOSPITAL.com | (519)121-6393                        | \n",
       "| 28.02194                             | -81.73307                            | 28.02194                             | -81.73307                            | WINTER HAVEN HOSPITAL                | FL                                   | COPD                                 | 3974421613                           | 1                                    | 20189                                | ⋯                                    | WINTER HAVEN                         | FL                                   | 33880                                | 815       INDIAN BLF                 | 3974421613                           | -81.82273                            | 28.01230                             | phone                                | 3974421613@WINTER HAVEN HOSPITAL.com | (740)476-7728                        | \n",
       "| 28.02194                             | -81.73307                            | 28.02194                             | -81.73307                            | WINTER HAVEN HOSPITAL                | FL                                   | COPD                                 | 4175390240                           | 0                                    | 20508                                | ⋯                                    | WINTER HAVEN                         | FL                                   | 33880                                | 405       AVENUE B E                 | 4175390240                           | -81.72135                            | 27.95242                             | text                                 | 4175390240@WINTER HAVEN HOSPITAL.com | (821)257-2454                        | \n",
       "| 28.02194                             | -81.73307                            | 28.02194                             | -81.73307                            | WINTER HAVEN HOSPITAL                | FL                                   | COPD                                 | 4229141448                           | 0                                    | 20184                                | ⋯                                    | WINTER HAVEN                         | FL                                   | 33880                                | 520       NW LEE AVE                 | 4229141448                           | -81.73193                            | 28.03380                             | email                                | 4229141448@WINTER HAVEN HOSPITAL.com | (909)514-7356                        | \n",
       "\n",
       "\n"
      ],
      "text/plain": [
       "  City_Lat City_Long Hospital_LAT Hospital_LONG Hospital_Name        \n",
       "1 28.02194 -81.73307 28.02194     -81.73307     WINTER HAVEN HOSPITAL\n",
       "2 28.02194 -81.73307 28.02194     -81.73307     WINTER HAVEN HOSPITAL\n",
       "3 28.02194 -81.73307 28.02194     -81.73307     WINTER HAVEN HOSPITAL\n",
       "4 28.02194 -81.73307 28.02194     -81.73307     WINTER HAVEN HOSPITAL\n",
       "5 28.02194 -81.73307 28.02194     -81.73307     WINTER HAVEN HOSPITAL\n",
       "6 28.02194 -81.73307 28.02194     -81.73307     WINTER HAVEN HOSPITAL\n",
       "  Hospital_State diagnosis Patient_Number DV_Readmit_Flag Admit_Date ⋯\n",
       "1 FL             COPD      3616875575     0               20328      ⋯\n",
       "2 FL             COPD      3641618231     1               19561      ⋯\n",
       "3 FL             COPD      3921618827     0               20460      ⋯\n",
       "4 FL             COPD      3974421613     1               20189      ⋯\n",
       "5 FL             COPD      4175390240     0               20508      ⋯\n",
       "6 FL             COPD      4229141448     0               20184      ⋯\n",
       "  CITY         STATE Postcode address                 PatientID  Patient_LON\n",
       "1 WINTER HAVEN FL    33880    3710      IMPERIAL DR   3616875575 -81.78762  \n",
       "2 WINTER HAVEN FL    33880    3550      US HIGHWAY 17 3641618231 -81.73206  \n",
       "3 WINTER HAVEN FL    33880    1460      NW 36TH ST    3921618827 -81.76975  \n",
       "4 WINTER HAVEN FL    33880    815       INDIAN BLF    3974421613 -81.82273  \n",
       "5 WINTER HAVEN FL    33880    405       AVENUE B E    4175390240 -81.72135  \n",
       "6 WINTER HAVEN FL    33880    520       NW LEE AVE    4229141448 -81.73193  \n",
       "  Patient_LAT Contact_Preference Email                               \n",
       "1 27.99263    email              3616875575@WINTER HAVEN HOSPITAL.com\n",
       "2 28.05979    phone              3641618231@WINTER HAVEN HOSPITAL.com\n",
       "3 28.03913    email              3921618827@WINTER HAVEN HOSPITAL.com\n",
       "4 28.01230    phone              3974421613@WINTER HAVEN HOSPITAL.com\n",
       "5 27.95242    text               4175390240@WINTER HAVEN HOSPITAL.com\n",
       "6 28.03380    email              4229141448@WINTER HAVEN HOSPITAL.com\n",
       "  Phone        \n",
       "1 (099)431-5552\n",
       "2 (034)373-8870\n",
       "3 (519)121-6393\n",
       "4 (740)476-7728\n",
       "5 (821)257-2454\n",
       "6 (909)514-7356"
      ]
     },
     "metadata": {},
     "output_type": "display_data"
    }
   ],
   "source": [
    "rawdata <- defCasTable(conn,caslib=currentCaslib,\"READMISSIONS_RAW\")\n",
    "head(rawdata)"
   ]
  },
  {
   "cell_type": "code",
   "execution_count": 6,
   "metadata": {},
   "outputs": [],
   "source": [
    "target <- 'DV_Readmit_Flag'"
   ]
  },
  {
   "cell_type": "markdown",
   "metadata": {},
   "source": [
    "### Use the CAS action for stratified sampling to create a partition variable with data staying in memory."
   ]
  },
  {
   "cell_type": "code",
   "execution_count": 7,
   "metadata": {},
   "outputs": [
    {
     "name": "stderr",
     "output_type": "stream",
     "text": [
      "NOTE: Added action set 'sampling'.\n",
      "NOTE: Information for action set 'sampling':\n",
      "NOTE:    sampling\n",
      "NOTE:       srs -  Samples a proportion of data from the input table or partitions the data into no more than three portions\n",
      "NOTE:       stratified - Samples a proportion of data or partitions the data into no more than three portions within each stratum\n",
      "NOTE:       oversample - Samples a user-specified proportion of data from the event level and adjusts the ratio between rare events and non-rare events to a user-specified ratio\n",
      "NOTE:       kfold - K-fold partitioning.\n",
      "NOTE: Using SEED=20 for sampling.\n"
     ]
    },
    {
     "data": {
      "text/html": [
       "<dl>\n",
       "\t<dt>$outputSize</dt>\n",
       "\t\t<dd><dl>\n",
       "\t<dt>$outputNObs</dt>\n",
       "\t\t<dd>75675</dd>\n",
       "\t<dt>$outputNVars</dt>\n",
       "\t\t<dd>41</dd>\n",
       "</dl>\n",
       "</dd>\n",
       "\t<dt>$STRAFreq</dt>\n",
       "\t\t<dd><table>\n",
       "<thead><tr><th scope=col>ByGrpID</th><th scope=col>DV_Readmit_Flag</th><th scope=col>NObs</th><th scope=col>NSamp</th></tr></thead>\n",
       "<tbody>\n",
       "\t<tr><td>0           </td><td>           0</td><td>58668       </td><td>17600       </td></tr>\n",
       "\t<tr><td>1           </td><td>           1</td><td>17007       </td><td> 5102       </td></tr>\n",
       "</tbody>\n",
       "</table>\n",
       "</dd>\n",
       "\t<dt>$OutputCasTables</dt>\n",
       "\t\t<dd><table>\n",
       "<thead><tr><th scope=col>casLib</th><th scope=col>Name</th><th scope=col>Label</th><th scope=col>Rows</th><th scope=col>Columns</th></tr></thead>\n",
       "<tbody>\n",
       "\t<tr><td>Public           </td><td>READMISSIONS_PART</td><td>                 </td><td>75675            </td><td>41               </td></tr>\n",
       "</tbody>\n",
       "</table>\n",
       "</dd>\n",
       "</dl>\n"
      ],
      "text/latex": [
       "\\begin{description}\n",
       "\\item[\\$outputSize] \\begin{description}\n",
       "\\item[\\$outputNObs] 75675\n",
       "\\item[\\$outputNVars] 41\n",
       "\\end{description}\n",
       "\n",
       "\\item[\\$STRAFreq] \\begin{tabular}{r|llll}\n",
       " ByGrpID & DV\\_Readmit\\_Flag & NObs & NSamp\\\\\n",
       "\\hline\n",
       "\t 0            &            0 & 58668        & 17600       \\\\\n",
       "\t 1            &            1 & 17007        &  5102       \\\\\n",
       "\\end{tabular}\n",
       "\n",
       "\\item[\\$OutputCasTables] \\begin{tabular}{r|lllll}\n",
       " casLib & Name & Label & Rows & Columns\\\\\n",
       "\\hline\n",
       "\t Public              & READMISSIONS\\_PART &                     & 75675               & 41                 \\\\\n",
       "\\end{tabular}\n",
       "\n",
       "\\end{description}\n"
      ],
      "text/markdown": [
       "$outputSize\n",
       ":   $outputNObs\n",
       ":   75675\n",
       "$outputNVars\n",
       ":   41\n",
       "\n",
       "\n",
       "\n",
       "$STRAFreq\n",
       ":   \n",
       "ByGrpID | DV_Readmit_Flag | NObs | NSamp | \n",
       "|---|---|\n",
       "| 0            |            0 | 58668        | 17600        | \n",
       "| 1            |            1 | 17007        |  5102        | \n",
       "\n",
       "\n",
       "\n",
       "$OutputCasTables\n",
       ":   \n",
       "casLib | Name | Label | Rows | Columns | \n",
       "|---|\n",
       "| Public            | READMISSIONS_PART |                   | 75675             | 41                | \n",
       "\n",
       "\n",
       "\n",
       "\n",
       "\n"
      ],
      "text/plain": [
       "$outputSize\n",
       "$outputSize$outputNObs\n",
       "[1] 75675\n",
       "\n",
       "$outputSize$outputNVars\n",
       "[1] 41\n",
       "\n",
       "\n",
       "$STRAFreq\n",
       "  ByGrpID DV_Readmit_Flag  NObs NSamp\n",
       "1       0               0 58668 17600\n",
       "2       1               1 17007  5102\n",
       "\n",
       "$OutputCasTables\n",
       "  casLib              Name Label  Rows Columns\n",
       "1 Public READMISSIONS_PART       75675      41\n"
      ]
     },
     "metadata": {},
     "output_type": "display_data"
    }
   ],
   "source": [
    "loadActionSet(conn, 'sampling')\n",
    "cas.sampling.stratified(conn,\n",
    "                       table = list(name='READMISSIONS_RAW', groupBy=target),\n",
    "                       seed = 20, \n",
    "                       samppct = 30,\n",
    "                       partInd = TRUE,\n",
    "                       output = list(casOut = list(name = 'READMISSIONS_PART', replace = T), copyVars = 'ALL'))"
   ]
  },
  {
   "cell_type": "code",
   "execution_count": 8,
   "metadata": {},
   "outputs": [
    {
     "data": {
      "text/html": [
       "<table>\n",
       "<thead><tr><th scope=col>City_Lat</th><th scope=col>City_Long</th><th scope=col>Hospital_LAT</th><th scope=col>Hospital_LONG</th><th scope=col>Hospital_Name</th><th scope=col>Hospital_State</th><th scope=col>diagnosis</th><th scope=col>Patient_Number</th><th scope=col>DV_Readmit_Flag</th><th scope=col>Admit_Date</th><th scope=col>⋯</th><th scope=col>STATE</th><th scope=col>Postcode</th><th scope=col>address</th><th scope=col>PatientID</th><th scope=col>Patient_LON</th><th scope=col>Patient_LAT</th><th scope=col>Contact_Preference</th><th scope=col>Email</th><th scope=col>Phone</th><th scope=col>_PartInd_</th></tr></thead>\n",
       "<tbody>\n",
       "\t<tr><td>39.06389                               </td><td>-108.55                                </td><td>39.06389                               </td><td>-108.55                                </td><td>ST MARYS  MEDICAL CENTER               </td><td>CO                                     </td><td>HF                                     </td><td>9802327715                             </td><td>0                                      </td><td>19715                                  </td><td>⋯                                      </td><td>CO                                     </td><td>81650                                  </td><td>334       East 10Th Street             </td><td>9802327715                             </td><td>-107.7800                              </td><td>39.53890                               </td><td>phone                                  </td><td>9802327715@ST MARYS  MEDICAL CENTER.com</td><td>(263)298-6486                          </td><td>0                                      </td></tr>\n",
       "\t<tr><td>39.06389                               </td><td>-108.55                                </td><td>39.06389                               </td><td>-108.55                                </td><td>ST MARYS  MEDICAL CENTER               </td><td>CO                                     </td><td>HF                                     </td><td>9809808773                             </td><td>1                                      </td><td>20191                                  </td><td>⋯                                      </td><td>CO                                     </td><td>81502                                  </td><td>902       Main Street                  </td><td>9809808773                             </td><td>-107.6532                              </td><td>39.54733                               </td><td>phone                                  </td><td>9809808773@ST MARYS  MEDICAL CENTER.com</td><td>(512)536-1914                          </td><td>0                                      </td></tr>\n",
       "\t<tr><td>39.06389                               </td><td>-108.55                                </td><td>39.06389                               </td><td>-108.55                                </td><td>ST MARYS  MEDICAL CENTER               </td><td>CO                                     </td><td>HIP/KNEE                               </td><td> 697697439                             </td><td>0                                      </td><td>19858                                  </td><td>⋯                                      </td><td>CO                                     </td><td>81502                                  </td><td>902       Main Street                  </td><td> 697697439                             </td><td>-107.6532                              </td><td>39.54733                               </td><td>email                                  </td><td>697697439@ST MARYS  MEDICAL CENTER.com </td><td>(745)538-2865                          </td><td>0                                      </td></tr>\n",
       "\t<tr><td>39.06389                               </td><td>-108.55                                </td><td>39.06389                               </td><td>-108.55                                </td><td>ST MARYS  MEDICAL CENTER               </td><td>CO                                     </td><td>HIP/KNEE                               </td><td> 752767441                             </td><td>0                                      </td><td>20625                                  </td><td>⋯                                      </td><td>CO                                     </td><td>81502                                  </td><td>902       Main Street                  </td><td> 752767441                             </td><td>-107.6532                              </td><td>39.54733                               </td><td>text                                   </td><td>752767441@ST MARYS  MEDICAL CENTER.com </td><td>(852)700-1549                          </td><td>0                                      </td></tr>\n",
       "\t<tr><td>39.06389                               </td><td>-108.55                                </td><td>39.06389                               </td><td>-108.55                                </td><td>ST MARYS  MEDICAL CENTER               </td><td>CO                                     </td><td>HIP/KNEE                               </td><td>1181886062                             </td><td>0                                      </td><td>19752                                  </td><td>⋯                                      </td><td>CO                                     </td><td>81502                                  </td><td>902       Main Street                  </td><td>1181886062                             </td><td>-107.6532                              </td><td>39.54733                               </td><td>phone                                  </td><td>1181886062@ST MARYS  MEDICAL CENTER.com</td><td>(533)372-1725                          </td><td>0                                      </td></tr>\n",
       "\t<tr><td>39.06389                               </td><td>-108.55                                </td><td>39.06389                               </td><td>-108.55                                </td><td>ST MARYS  MEDICAL CENTER               </td><td>CO                                     </td><td>HIP/KNEE                               </td><td>1530054142                             </td><td>1                                      </td><td>20573                                  </td><td>⋯                                      </td><td>CO                                     </td><td>81502                                  </td><td>902       Main Street                  </td><td>1530054142                             </td><td>-107.6532                              </td><td>39.54733                               </td><td>text                                   </td><td>1530054142@ST MARYS  MEDICAL CENTER.com</td><td>(167)399-2541                          </td><td>0                                      </td></tr>\n",
       "</tbody>\n",
       "</table>\n"
      ],
      "text/latex": [
       "\\begin{tabular}{r|lllllllllllllllllllllllllllllllllllllllll}\n",
       " City\\_Lat & City\\_Long & Hospital\\_LAT & Hospital\\_LONG & Hospital\\_Name & Hospital\\_State & diagnosis & Patient\\_Number & DV\\_Readmit\\_Flag & Admit\\_Date & ⋯ & STATE & Postcode & address & PatientID & Patient\\_LON & Patient\\_LAT & Contact\\_Preference & Email & Phone & \\_PartInd\\_\\\\\n",
       "\\hline\n",
       "\t 39.06389                                & -108.55                                 & 39.06389                                & -108.55                                 & ST MARYS  MEDICAL CENTER                & CO                                      & HF                                      & 9802327715                              & 0                                       & 19715                                   & ⋯                                       & CO                                      & 81650                                   & 334       East 10Th Street              & 9802327715                              & -107.7800                               & 39.53890                                & phone                                   & 9802327715@ST MARYS  MEDICAL CENTER.com & (263)298-6486                           & 0                                      \\\\\n",
       "\t 39.06389                                & -108.55                                 & 39.06389                                & -108.55                                 & ST MARYS  MEDICAL CENTER                & CO                                      & HF                                      & 9809808773                              & 1                                       & 20191                                   & ⋯                                       & CO                                      & 81502                                   & 902       Main Street                   & 9809808773                              & -107.6532                               & 39.54733                                & phone                                   & 9809808773@ST MARYS  MEDICAL CENTER.com & (512)536-1914                           & 0                                      \\\\\n",
       "\t 39.06389                                & -108.55                                 & 39.06389                                & -108.55                                 & ST MARYS  MEDICAL CENTER                & CO                                      & HIP/KNEE                                &  697697439                              & 0                                       & 19858                                   & ⋯                                       & CO                                      & 81502                                   & 902       Main Street                   &  697697439                              & -107.6532                               & 39.54733                                & email                                   & 697697439@ST MARYS  MEDICAL CENTER.com  & (745)538-2865                           & 0                                      \\\\\n",
       "\t 39.06389                                & -108.55                                 & 39.06389                                & -108.55                                 & ST MARYS  MEDICAL CENTER                & CO                                      & HIP/KNEE                                &  752767441                              & 0                                       & 20625                                   & ⋯                                       & CO                                      & 81502                                   & 902       Main Street                   &  752767441                              & -107.6532                               & 39.54733                                & text                                    & 752767441@ST MARYS  MEDICAL CENTER.com  & (852)700-1549                           & 0                                      \\\\\n",
       "\t 39.06389                                & -108.55                                 & 39.06389                                & -108.55                                 & ST MARYS  MEDICAL CENTER                & CO                                      & HIP/KNEE                                & 1181886062                              & 0                                       & 19752                                   & ⋯                                       & CO                                      & 81502                                   & 902       Main Street                   & 1181886062                              & -107.6532                               & 39.54733                                & phone                                   & 1181886062@ST MARYS  MEDICAL CENTER.com & (533)372-1725                           & 0                                      \\\\\n",
       "\t 39.06389                                & -108.55                                 & 39.06389                                & -108.55                                 & ST MARYS  MEDICAL CENTER                & CO                                      & HIP/KNEE                                & 1530054142                              & 1                                       & 20573                                   & ⋯                                       & CO                                      & 81502                                   & 902       Main Street                   & 1530054142                              & -107.6532                               & 39.54733                                & text                                    & 1530054142@ST MARYS  MEDICAL CENTER.com & (167)399-2541                           & 0                                      \\\\\n",
       "\\end{tabular}\n"
      ],
      "text/markdown": [
       "\n",
       "City_Lat | City_Long | Hospital_LAT | Hospital_LONG | Hospital_Name | Hospital_State | diagnosis | Patient_Number | DV_Readmit_Flag | Admit_Date | ⋯ | STATE | Postcode | address | PatientID | Patient_LON | Patient_LAT | Contact_Preference | Email | Phone | _PartInd_ | \n",
       "|---|---|---|---|---|---|\n",
       "| 39.06389                                | -108.55                                 | 39.06389                                | -108.55                                 | ST MARYS  MEDICAL CENTER                | CO                                      | HF                                      | 9802327715                              | 0                                       | 19715                                   | ⋯                                       | CO                                      | 81650                                   | 334       East 10Th Street              | 9802327715                              | -107.7800                               | 39.53890                                | phone                                   | 9802327715@ST MARYS  MEDICAL CENTER.com | (263)298-6486                           | 0                                       | \n",
       "| 39.06389                                | -108.55                                 | 39.06389                                | -108.55                                 | ST MARYS  MEDICAL CENTER                | CO                                      | HF                                      | 9809808773                              | 1                                       | 20191                                   | ⋯                                       | CO                                      | 81502                                   | 902       Main Street                   | 9809808773                              | -107.6532                               | 39.54733                                | phone                                   | 9809808773@ST MARYS  MEDICAL CENTER.com | (512)536-1914                           | 0                                       | \n",
       "| 39.06389                                | -108.55                                 | 39.06389                                | -108.55                                 | ST MARYS  MEDICAL CENTER                | CO                                      | HIP/KNEE                                |  697697439                              | 0                                       | 19858                                   | ⋯                                       | CO                                      | 81502                                   | 902       Main Street                   |  697697439                              | -107.6532                               | 39.54733                                | email                                   | 697697439@ST MARYS  MEDICAL CENTER.com  | (745)538-2865                           | 0                                       | \n",
       "| 39.06389                                | -108.55                                 | 39.06389                                | -108.55                                 | ST MARYS  MEDICAL CENTER                | CO                                      | HIP/KNEE                                |  752767441                              | 0                                       | 20625                                   | ⋯                                       | CO                                      | 81502                                   | 902       Main Street                   |  752767441                              | -107.6532                               | 39.54733                                | text                                    | 752767441@ST MARYS  MEDICAL CENTER.com  | (852)700-1549                           | 0                                       | \n",
       "| 39.06389                                | -108.55                                 | 39.06389                                | -108.55                                 | ST MARYS  MEDICAL CENTER                | CO                                      | HIP/KNEE                                | 1181886062                              | 0                                       | 19752                                   | ⋯                                       | CO                                      | 81502                                   | 902       Main Street                   | 1181886062                              | -107.6532                               | 39.54733                                | phone                                   | 1181886062@ST MARYS  MEDICAL CENTER.com | (533)372-1725                           | 0                                       | \n",
       "| 39.06389                                | -108.55                                 | 39.06389                                | -108.55                                 | ST MARYS  MEDICAL CENTER                | CO                                      | HIP/KNEE                                | 1530054142                              | 1                                       | 20573                                   | ⋯                                       | CO                                      | 81502                                   | 902       Main Street                   | 1530054142                              | -107.6532                               | 39.54733                                | text                                    | 1530054142@ST MARYS  MEDICAL CENTER.com | (167)399-2541                           | 0                                       | \n",
       "\n",
       "\n"
      ],
      "text/plain": [
       "  City_Lat City_Long Hospital_LAT Hospital_LONG Hospital_Name           \n",
       "1 39.06389 -108.55   39.06389     -108.55       ST MARYS  MEDICAL CENTER\n",
       "2 39.06389 -108.55   39.06389     -108.55       ST MARYS  MEDICAL CENTER\n",
       "3 39.06389 -108.55   39.06389     -108.55       ST MARYS  MEDICAL CENTER\n",
       "4 39.06389 -108.55   39.06389     -108.55       ST MARYS  MEDICAL CENTER\n",
       "5 39.06389 -108.55   39.06389     -108.55       ST MARYS  MEDICAL CENTER\n",
       "6 39.06389 -108.55   39.06389     -108.55       ST MARYS  MEDICAL CENTER\n",
       "  Hospital_State diagnosis Patient_Number DV_Readmit_Flag Admit_Date ⋯ STATE\n",
       "1 CO             HF        9802327715     0               19715      ⋯ CO   \n",
       "2 CO             HF        9809808773     1               20191      ⋯ CO   \n",
       "3 CO             HIP/KNEE   697697439     0               19858      ⋯ CO   \n",
       "4 CO             HIP/KNEE   752767441     0               20625      ⋯ CO   \n",
       "5 CO             HIP/KNEE  1181886062     0               19752      ⋯ CO   \n",
       "6 CO             HIP/KNEE  1530054142     1               20573      ⋯ CO   \n",
       "  Postcode address                    PatientID  Patient_LON Patient_LAT\n",
       "1 81650    334       East 10Th Street 9802327715 -107.7800   39.53890   \n",
       "2 81502    902       Main Street      9809808773 -107.6532   39.54733   \n",
       "3 81502    902       Main Street       697697439 -107.6532   39.54733   \n",
       "4 81502    902       Main Street       752767441 -107.6532   39.54733   \n",
       "5 81502    902       Main Street      1181886062 -107.6532   39.54733   \n",
       "6 81502    902       Main Street      1530054142 -107.6532   39.54733   \n",
       "  Contact_Preference Email                                   Phone        \n",
       "1 phone              9802327715@ST MARYS  MEDICAL CENTER.com (263)298-6486\n",
       "2 phone              9809808773@ST MARYS  MEDICAL CENTER.com (512)536-1914\n",
       "3 email              697697439@ST MARYS  MEDICAL CENTER.com  (745)538-2865\n",
       "4 text               752767441@ST MARYS  MEDICAL CENTER.com  (852)700-1549\n",
       "5 phone              1181886062@ST MARYS  MEDICAL CENTER.com (533)372-1725\n",
       "6 text               1530054142@ST MARYS  MEDICAL CENTER.com (167)399-2541\n",
       "  _PartInd_\n",
       "1 0        \n",
       "2 0        \n",
       "3 0        \n",
       "4 0        \n",
       "5 0        \n",
       "6 0        "
      ]
     },
     "metadata": {},
     "output_type": "display_data"
    }
   ],
   "source": [
    "train <- defCasTable(conn,caslib=currentCaslib, 'READMISSIONS_PART', where=\"_PartInd_=0\")\n",
    "valid <- defCasTable(conn,caslib=currentCaslib, 'READMISSIONS_PART', where=\"_PartInd_=1\")\n",
    "head(train)"
   ]
  },
  {
   "cell_type": "markdown",
   "metadata": {},
   "source": [
    "### Transfer training data from CAS table to R data frame"
   ]
  },
  {
   "cell_type": "code",
   "execution_count": 9,
   "metadata": {},
   "outputs": [],
   "source": [
    "train_R <- to.data.frame(to.casDataFrame(train))"
   ]
  },
  {
   "cell_type": "markdown",
   "metadata": {},
   "source": [
    "### Build logistic regression with native R and summarize"
   ]
  },
  {
   "cell_type": "code",
   "execution_count": 10,
   "metadata": {},
   "outputs": [],
   "source": [
    "R_logistic <- glm(DV_Readmit_Flag ~ bmi + Length_of_Stay + Chronic_Conditions_Number + Patient_Age, family= binomial(link=logit), data= train_R)"
   ]
  },
  {
   "cell_type": "code",
   "execution_count": 11,
   "metadata": {},
   "outputs": [
    {
     "data": {
      "text/plain": [
       "\n",
       "Call:\n",
       "glm(formula = DV_Readmit_Flag ~ bmi + Length_of_Stay + Chronic_Conditions_Number + \n",
       "    Patient_Age, family = binomial(link = logit), data = train_R)\n",
       "\n",
       "Deviance Residuals: \n",
       "    Min       1Q   Median       3Q      Max  \n",
       "-2.8388  -0.4364  -0.2172  -0.0648   3.9433  \n",
       "\n",
       "Coefficients:\n",
       "                            Estimate Std. Error z value Pr(>|z|)    \n",
       "(Intercept)               -13.822658   0.220555 -62.672  < 2e-16 ***\n",
       "bmi                         0.005690   0.005495   1.035      0.3    \n",
       "Length_of_Stay              0.469096   0.008710  53.858  < 2e-16 ***\n",
       "Chronic_Conditions_Number   0.236517   0.036538   6.473 9.59e-11 ***\n",
       "Patient_Age                 0.151795   0.002102  72.226  < 2e-16 ***\n",
       "---\n",
       "Signif. codes:  0 ‘***’ 0.001 ‘**’ 0.01 ‘*’ 0.05 ‘.’ 0.1 ‘ ’ 1\n",
       "\n",
       "(Dispersion parameter for binomial family taken to be 1)\n",
       "\n",
       "    Null deviance: 34848  on 32767  degrees of freedom\n",
       "Residual deviance: 18015  on 32763  degrees of freedom\n",
       "AIC: 18025\n",
       "\n",
       "Number of Fisher Scoring iterations: 6\n"
      ]
     },
     "metadata": {},
     "output_type": "display_data"
    }
   ],
   "source": [
    "summary(R_logistic)"
   ]
  },
  {
   "cell_type": "markdown",
   "metadata": {},
   "source": [
    "### Transfer validation data from CAS to R data frame"
   ]
  },
  {
   "cell_type": "code",
   "execution_count": 12,
   "metadata": {},
   "outputs": [],
   "source": [
    "valid_R <- to.data.frame(to.casDataFrame(valid))"
   ]
  },
  {
   "cell_type": "markdown",
   "metadata": {},
   "source": [
    "### Score validation data, add predicted probability as new column"
   ]
  },
  {
   "cell_type": "code",
   "execution_count": 13,
   "metadata": {},
   "outputs": [],
   "source": [
    "predict_valid_logistic <- predict(R_logistic, valid_R, type=\"response\")"
   ]
  },
  {
   "cell_type": "code",
   "execution_count": 14,
   "metadata": {},
   "outputs": [
    {
     "data": {
      "text/html": [
       "<dl class=dl-horizontal>\n",
       "\t<dt>1</dt>\n",
       "\t\t<dd>0.387478898318058</dd>\n",
       "\t<dt>2</dt>\n",
       "\t\t<dd>0.170531252512035</dd>\n",
       "\t<dt>3</dt>\n",
       "\t\t<dd>0.0197445729911303</dd>\n",
       "\t<dt>4</dt>\n",
       "\t\t<dd>0.00484167868197453</dd>\n",
       "\t<dt>5</dt>\n",
       "\t\t<dd>0.0592460647769605</dd>\n",
       "\t<dt>6</dt>\n",
       "\t\t<dd>0.0362795725402143</dd>\n",
       "</dl>\n"
      ],
      "text/latex": [
       "\\begin{description*}\n",
       "\\item[1] 0.387478898318058\n",
       "\\item[2] 0.170531252512035\n",
       "\\item[3] 0.0197445729911303\n",
       "\\item[4] 0.00484167868197453\n",
       "\\item[5] 0.0592460647769605\n",
       "\\item[6] 0.0362795725402143\n",
       "\\end{description*}\n"
      ],
      "text/markdown": [
       "1\n",
       ":   0.3874788983180582\n",
       ":   0.1705312525120353\n",
       ":   0.01974457299113034\n",
       ":   0.004841678681974535\n",
       ":   0.05924606477696056\n",
       ":   0.0362795725402143\n",
       "\n"
      ],
      "text/plain": [
       "          1           2           3           4           5           6 \n",
       "0.387478898 0.170531253 0.019744573 0.004841679 0.059246065 0.036279573 "
      ]
     },
     "metadata": {},
     "output_type": "display_data"
    }
   ],
   "source": [
    "head(predict_valid_logistic)"
   ]
  },
  {
   "cell_type": "code",
   "execution_count": 15,
   "metadata": {},
   "outputs": [],
   "source": [
    "validScore <- cbind(valid_R,prob = predict_valid_logistic)"
   ]
  },
  {
   "cell_type": "code",
   "execution_count": 16,
   "metadata": {},
   "outputs": [
    {
     "data": {
      "text/html": [
       "<table>\n",
       "<thead><tr><th scope=col>City_Lat</th><th scope=col>City_Long</th><th scope=col>Hospital_LAT</th><th scope=col>Hospital_LONG</th><th scope=col>Hospital_Name</th><th scope=col>Hospital_State</th><th scope=col>diagnosis</th><th scope=col>Patient_Number</th><th scope=col>DV_Readmit_Flag</th><th scope=col>Admit_Date</th><th scope=col>⋯</th><th scope=col>Postcode</th><th scope=col>address</th><th scope=col>PatientID</th><th scope=col>Patient_LON</th><th scope=col>Patient_LAT</th><th scope=col>Contact_Preference</th><th scope=col>Email</th><th scope=col>Phone</th><th scope=col>_PartInd_</th><th scope=col>prob</th></tr></thead>\n",
       "<tbody>\n",
       "\t<tr><td>39.06389                               </td><td>-108.55                                </td><td>39.06389                               </td><td>-108.55                                </td><td>ST MARYS  MEDICAL CENTER               </td><td>CO                                     </td><td>HIP/KNEE                               </td><td> 661862698                             </td><td>1                                      </td><td>19892                                  </td><td>⋯                                      </td><td>81502                                  </td><td>902       Main Street                  </td><td> 661862698                             </td><td>-107.6532                              </td><td>39.54733                               </td><td>phone                                  </td><td>661862698@ST MARYS  MEDICAL CENTER.com </td><td>(174)121-1629                          </td><td>1                                      </td><td>0.387478898                            </td></tr>\n",
       "\t<tr><td>39.06389                               </td><td>-108.55                                </td><td>39.06389                               </td><td>-108.55                                </td><td>ST MARYS  MEDICAL CENTER               </td><td>CO                                     </td><td>HIP/KNEE                               </td><td>1377460329                             </td><td>0                                      </td><td>19634                                  </td><td>⋯                                      </td><td>81502                                  </td><td>902       Main Street                  </td><td>1377460329                             </td><td>-107.6532                              </td><td>39.54733                               </td><td>phone                                  </td><td>1377460329@ST MARYS  MEDICAL CENTER.com</td><td>(293)740-3563                          </td><td>1                                      </td><td>0.170531253                            </td></tr>\n",
       "\t<tr><td>39.06389                               </td><td>-108.55                                </td><td>39.06389                               </td><td>-108.55                                </td><td>ST MARYS  MEDICAL CENTER               </td><td>CO                                     </td><td>HIP/KNEE                               </td><td>1519256663                             </td><td>0                                      </td><td>19847                                  </td><td>⋯                                      </td><td>81502                                  </td><td>902       Main Street                  </td><td>1519256663                             </td><td>-107.6532                              </td><td>39.54733                               </td><td>email                                  </td><td>1519256663@ST MARYS  MEDICAL CENTER.com</td><td>(226)739-3244                          </td><td>1                                      </td><td>0.019744573                            </td></tr>\n",
       "\t<tr><td>39.06389                               </td><td>-108.55                                </td><td>39.06389                               </td><td>-108.55                                </td><td>ST MARYS  MEDICAL CENTER               </td><td>CO                                     </td><td>HIP/KNEE                               </td><td>1761808596                             </td><td>0                                      </td><td>20194                                  </td><td>⋯                                      </td><td>81502                                  </td><td>902       Main Street                  </td><td>1761808596                             </td><td>-107.6532                              </td><td>39.54733                               </td><td>email                                  </td><td>1761808596@ST MARYS  MEDICAL CENTER.com</td><td>(858)480-4023                          </td><td>1                                      </td><td>0.004841679                            </td></tr>\n",
       "\t<tr><td>39.06389                               </td><td>-108.55                                </td><td>39.06389                               </td><td>-108.55                                </td><td>ST MARYS  MEDICAL CENTER               </td><td>CO                                     </td><td>HIP/KNEE                               </td><td>2385003288                             </td><td>0                                      </td><td>20281                                  </td><td>⋯                                      </td><td>81502                                  </td><td>902       Main Street                  </td><td>2385003288                             </td><td>-107.6532                              </td><td>39.54733                               </td><td>email                                  </td><td>2385003288@ST MARYS  MEDICAL CENTER.com</td><td>(877)506-5813                          </td><td>1                                      </td><td>0.059246065                            </td></tr>\n",
       "\t<tr><td>39.06389                               </td><td>-108.55                                </td><td>39.06389                               </td><td>-108.55                                </td><td>ST MARYS  MEDICAL CENTER               </td><td>CO                                     </td><td>HIP/KNEE                               </td><td>4956790681                             </td><td>0                                      </td><td>19696                                  </td><td>⋯                                      </td><td>81502                                  </td><td>902       Main Street                  </td><td>4956790681                             </td><td>-107.6532                              </td><td>39.54733                               </td><td>email                                  </td><td>4956790681@ST MARYS  MEDICAL CENTER.com</td><td>(810)767-1909                          </td><td>1                                      </td><td>0.036279573                            </td></tr>\n",
       "</tbody>\n",
       "</table>\n"
      ],
      "text/latex": [
       "\\begin{tabular}{r|llllllllllllllllllllllllllllllllllllllllll}\n",
       " City\\_Lat & City\\_Long & Hospital\\_LAT & Hospital\\_LONG & Hospital\\_Name & Hospital\\_State & diagnosis & Patient\\_Number & DV\\_Readmit\\_Flag & Admit\\_Date & ⋯ & Postcode & address & PatientID & Patient\\_LON & Patient\\_LAT & Contact\\_Preference & Email & Phone & \\_PartInd\\_ & prob\\\\\n",
       "\\hline\n",
       "\t 39.06389                                & -108.55                                 & 39.06389                                & -108.55                                 & ST MARYS  MEDICAL CENTER                & CO                                      & HIP/KNEE                                &  661862698                              & 1                                       & 19892                                   & ⋯                                       & 81502                                   & 902       Main Street                   &  661862698                              & -107.6532                               & 39.54733                                & phone                                   & 661862698@ST MARYS  MEDICAL CENTER.com  & (174)121-1629                           & 1                                       & 0.387478898                            \\\\\n",
       "\t 39.06389                                & -108.55                                 & 39.06389                                & -108.55                                 & ST MARYS  MEDICAL CENTER                & CO                                      & HIP/KNEE                                & 1377460329                              & 0                                       & 19634                                   & ⋯                                       & 81502                                   & 902       Main Street                   & 1377460329                              & -107.6532                               & 39.54733                                & phone                                   & 1377460329@ST MARYS  MEDICAL CENTER.com & (293)740-3563                           & 1                                       & 0.170531253                            \\\\\n",
       "\t 39.06389                                & -108.55                                 & 39.06389                                & -108.55                                 & ST MARYS  MEDICAL CENTER                & CO                                      & HIP/KNEE                                & 1519256663                              & 0                                       & 19847                                   & ⋯                                       & 81502                                   & 902       Main Street                   & 1519256663                              & -107.6532                               & 39.54733                                & email                                   & 1519256663@ST MARYS  MEDICAL CENTER.com & (226)739-3244                           & 1                                       & 0.019744573                            \\\\\n",
       "\t 39.06389                                & -108.55                                 & 39.06389                                & -108.55                                 & ST MARYS  MEDICAL CENTER                & CO                                      & HIP/KNEE                                & 1761808596                              & 0                                       & 20194                                   & ⋯                                       & 81502                                   & 902       Main Street                   & 1761808596                              & -107.6532                               & 39.54733                                & email                                   & 1761808596@ST MARYS  MEDICAL CENTER.com & (858)480-4023                           & 1                                       & 0.004841679                            \\\\\n",
       "\t 39.06389                                & -108.55                                 & 39.06389                                & -108.55                                 & ST MARYS  MEDICAL CENTER                & CO                                      & HIP/KNEE                                & 2385003288                              & 0                                       & 20281                                   & ⋯                                       & 81502                                   & 902       Main Street                   & 2385003288                              & -107.6532                               & 39.54733                                & email                                   & 2385003288@ST MARYS  MEDICAL CENTER.com & (877)506-5813                           & 1                                       & 0.059246065                            \\\\\n",
       "\t 39.06389                                & -108.55                                 & 39.06389                                & -108.55                                 & ST MARYS  MEDICAL CENTER                & CO                                      & HIP/KNEE                                & 4956790681                              & 0                                       & 19696                                   & ⋯                                       & 81502                                   & 902       Main Street                   & 4956790681                              & -107.6532                               & 39.54733                                & email                                   & 4956790681@ST MARYS  MEDICAL CENTER.com & (810)767-1909                           & 1                                       & 0.036279573                            \\\\\n",
       "\\end{tabular}\n"
      ],
      "text/markdown": [
       "\n",
       "City_Lat | City_Long | Hospital_LAT | Hospital_LONG | Hospital_Name | Hospital_State | diagnosis | Patient_Number | DV_Readmit_Flag | Admit_Date | ⋯ | Postcode | address | PatientID | Patient_LON | Patient_LAT | Contact_Preference | Email | Phone | _PartInd_ | prob | \n",
       "|---|---|---|---|---|---|\n",
       "| 39.06389                                | -108.55                                 | 39.06389                                | -108.55                                 | ST MARYS  MEDICAL CENTER                | CO                                      | HIP/KNEE                                |  661862698                              | 1                                       | 19892                                   | ⋯                                       | 81502                                   | 902       Main Street                   |  661862698                              | -107.6532                               | 39.54733                                | phone                                   | 661862698@ST MARYS  MEDICAL CENTER.com  | (174)121-1629                           | 1                                       | 0.387478898                             | \n",
       "| 39.06389                                | -108.55                                 | 39.06389                                | -108.55                                 | ST MARYS  MEDICAL CENTER                | CO                                      | HIP/KNEE                                | 1377460329                              | 0                                       | 19634                                   | ⋯                                       | 81502                                   | 902       Main Street                   | 1377460329                              | -107.6532                               | 39.54733                                | phone                                   | 1377460329@ST MARYS  MEDICAL CENTER.com | (293)740-3563                           | 1                                       | 0.170531253                             | \n",
       "| 39.06389                                | -108.55                                 | 39.06389                                | -108.55                                 | ST MARYS  MEDICAL CENTER                | CO                                      | HIP/KNEE                                | 1519256663                              | 0                                       | 19847                                   | ⋯                                       | 81502                                   | 902       Main Street                   | 1519256663                              | -107.6532                               | 39.54733                                | email                                   | 1519256663@ST MARYS  MEDICAL CENTER.com | (226)739-3244                           | 1                                       | 0.019744573                             | \n",
       "| 39.06389                                | -108.55                                 | 39.06389                                | -108.55                                 | ST MARYS  MEDICAL CENTER                | CO                                      | HIP/KNEE                                | 1761808596                              | 0                                       | 20194                                   | ⋯                                       | 81502                                   | 902       Main Street                   | 1761808596                              | -107.6532                               | 39.54733                                | email                                   | 1761808596@ST MARYS  MEDICAL CENTER.com | (858)480-4023                           | 1                                       | 0.004841679                             | \n",
       "| 39.06389                                | -108.55                                 | 39.06389                                | -108.55                                 | ST MARYS  MEDICAL CENTER                | CO                                      | HIP/KNEE                                | 2385003288                              | 0                                       | 20281                                   | ⋯                                       | 81502                                   | 902       Main Street                   | 2385003288                              | -107.6532                               | 39.54733                                | email                                   | 2385003288@ST MARYS  MEDICAL CENTER.com | (877)506-5813                           | 1                                       | 0.059246065                             | \n",
       "| 39.06389                                | -108.55                                 | 39.06389                                | -108.55                                 | ST MARYS  MEDICAL CENTER                | CO                                      | HIP/KNEE                                | 4956790681                              | 0                                       | 19696                                   | ⋯                                       | 81502                                   | 902       Main Street                   | 4956790681                              | -107.6532                               | 39.54733                                | email                                   | 4956790681@ST MARYS  MEDICAL CENTER.com | (810)767-1909                           | 1                                       | 0.036279573                             | \n",
       "\n",
       "\n"
      ],
      "text/plain": [
       "  City_Lat City_Long Hospital_LAT Hospital_LONG Hospital_Name           \n",
       "1 39.06389 -108.55   39.06389     -108.55       ST MARYS  MEDICAL CENTER\n",
       "2 39.06389 -108.55   39.06389     -108.55       ST MARYS  MEDICAL CENTER\n",
       "3 39.06389 -108.55   39.06389     -108.55       ST MARYS  MEDICAL CENTER\n",
       "4 39.06389 -108.55   39.06389     -108.55       ST MARYS  MEDICAL CENTER\n",
       "5 39.06389 -108.55   39.06389     -108.55       ST MARYS  MEDICAL CENTER\n",
       "6 39.06389 -108.55   39.06389     -108.55       ST MARYS  MEDICAL CENTER\n",
       "  Hospital_State diagnosis Patient_Number DV_Readmit_Flag Admit_Date ⋯ Postcode\n",
       "1 CO             HIP/KNEE   661862698     1               19892      ⋯ 81502   \n",
       "2 CO             HIP/KNEE  1377460329     0               19634      ⋯ 81502   \n",
       "3 CO             HIP/KNEE  1519256663     0               19847      ⋯ 81502   \n",
       "4 CO             HIP/KNEE  1761808596     0               20194      ⋯ 81502   \n",
       "5 CO             HIP/KNEE  2385003288     0               20281      ⋯ 81502   \n",
       "6 CO             HIP/KNEE  4956790681     0               19696      ⋯ 81502   \n",
       "  address               PatientID  Patient_LON Patient_LAT Contact_Preference\n",
       "1 902       Main Street  661862698 -107.6532   39.54733    phone             \n",
       "2 902       Main Street 1377460329 -107.6532   39.54733    phone             \n",
       "3 902       Main Street 1519256663 -107.6532   39.54733    email             \n",
       "4 902       Main Street 1761808596 -107.6532   39.54733    email             \n",
       "5 902       Main Street 2385003288 -107.6532   39.54733    email             \n",
       "6 902       Main Street 4956790681 -107.6532   39.54733    email             \n",
       "  Email                                   Phone         _PartInd_ prob       \n",
       "1 661862698@ST MARYS  MEDICAL CENTER.com  (174)121-1629 1         0.387478898\n",
       "2 1377460329@ST MARYS  MEDICAL CENTER.com (293)740-3563 1         0.170531253\n",
       "3 1519256663@ST MARYS  MEDICAL CENTER.com (226)739-3244 1         0.019744573\n",
       "4 1761808596@ST MARYS  MEDICAL CENTER.com (858)480-4023 1         0.004841679\n",
       "5 2385003288@ST MARYS  MEDICAL CENTER.com (877)506-5813 1         0.059246065\n",
       "6 4956790681@ST MARYS  MEDICAL CENTER.com (810)767-1909 1         0.036279573"
      ]
     },
     "metadata": {},
     "output_type": "display_data"
    }
   ],
   "source": [
    "head(validScore)"
   ]
  },
  {
   "cell_type": "markdown",
   "metadata": {},
   "source": [
    "### Validation Confusion Matrix and ROC Curve"
   ]
  },
  {
   "cell_type": "code",
   "execution_count": 17,
   "metadata": {},
   "outputs": [
    {
     "data": {
      "text/plain": [
       "   \n",
       "    FALSE  TRUE\n",
       "  0 16930   670\n",
       "  1  1788  3314"
      ]
     },
     "metadata": {},
     "output_type": "display_data"
    }
   ],
   "source": [
    "table(validScore$DV_Readmit_Flag, predict_valid_logistic > 0.5)"
   ]
  },
  {
   "cell_type": "code",
   "execution_count": 18,
   "metadata": {},
   "outputs": [
    {
     "data": {
      "image/png": "[encoded data removed]",
      "text/plain": [
       "plot without title"
      ]
     },
     "metadata": {},
     "output_type": "display_data"
    }
   ],
   "source": [
    "ROCRpred <- prediction(predict_valid_logistic, validScore$DV_Readmit_Flag)\n",
    "ROCRperf <- performance(ROCRpred, 'tpr','fpr')\n",
    "plot(ROCRperf, text.adj = c(-0.2,1.7))"
   ]
  },
  {
   "cell_type": "code",
   "execution_count": 19,
   "metadata": {},
   "outputs": [],
   "source": [
    "#move to CAS\n",
    "validScoredCAS <- as.casTable(conn, validScore, casOut=list(name=\"validScoredLogisticR\", caslib=\"PUBLIC\", promote=TRUE))\n",
    "predict_train_logistic <- predict(R_logistic, train_R, type=\"response\")\n",
    "trainScore <- cbind(train_R,prob = predict_train_logistic)\n",
    "trainScoredCAS <- as.casTable(conn, trainScore, casOut=list(name=\"trainScoredLogisticR\", caslib=\"PUBLIC\", promote=TRUE))"
   ]
  },
  {
   "cell_type": "markdown",
   "metadata": {},
   "source": [
    "### Score 4 quarters of data in R and load back to CAS to be used for model performance monitoring"
   ]
  },
  {
   "cell_type": "code",
   "execution_count": 20,
   "metadata": {},
   "outputs": [],
   "source": [
    "score1 <- to.data.frame(to.casDataFrame(defCasTable(conn,caslib=currentCaslib, 'READMISSIONSSCORED_1')))"
   ]
  },
  {
   "cell_type": "code",
   "execution_count": 21,
   "metadata": {},
   "outputs": [],
   "source": [
    "predictLogistic1 <- predict(R_logistic, score1, type=\"response\")\n",
    "scoredLogisticR1 <- cbind(score1, prob = predictLogistic1)\n",
    "scoredLogisticR1 <- scoredLogisticR1 %>%\n",
    "    mutate(pred=ifelse(prob < 0.5, 0, 1))"
   ]
  },
  {
   "cell_type": "code",
   "execution_count": 22,
   "metadata": {},
   "outputs": [],
   "source": [
    "scoredCAS1 <- as.casTable(conn, scoredLogisticR1, casOut=list(name=\"scoredLogisticR_1_Q1_a1638c70-8ee0-4d2b-9892-c7f892e63f2c\", caslib=\"PUBLIC\", promote=TRUE))"
   ]
  },
  {
   "cell_type": "code",
   "execution_count": 23,
   "metadata": {},
   "outputs": [],
   "source": [
    "score2 <- to.data.frame(to.casDataFrame(defCasTable(conn,caslib=currentCaslib, 'READMISSIONSSCORED_2')))"
   ]
  },
  {
   "cell_type": "code",
   "execution_count": 24,
   "metadata": {},
   "outputs": [],
   "source": [
    "predictLogistic2 <- predict(R_logistic, score2, type=\"response\")\n",
    "scoredLogisticR2 <- cbind(score2, prob = predictLogistic2)\n",
    "scoredLogisticR2 <- scoredLogisticR2 %>%\n",
    "    mutate(pred=ifelse(prob < 0.5, 0, 1))"
   ]
  },
  {
   "cell_type": "code",
   "execution_count": 25,
   "metadata": {},
   "outputs": [],
   "source": [
    "scoredCAS2 <- as.casTable(conn, scoredLogisticR2, casOut=list(name=\"scoredLogisticR_2_Q2_a1638c70-8ee0-4d2b-9892-c7f892e63f2c\", caslib=\"PUBLIC\", promote=TRUE))"
   ]
  },
  {
   "cell_type": "code",
   "execution_count": 26,
   "metadata": {},
   "outputs": [],
   "source": [
    "score3 <- to.data.frame(to.casDataFrame(defCasTable(conn,caslib=currentCaslib, 'READMISSIONSSCORED_3')))"
   ]
  },
  {
   "cell_type": "code",
   "execution_count": 27,
   "metadata": {},
   "outputs": [],
   "source": [
    "predictLogistic3 <- predict(R_logistic, score3, type=\"response\")\n",
    "scoredLogisticR3 <- cbind(score3, prob = predictLogistic3)\n",
    "scoredLogisticR3 <- scoredLogisticR3 %>%\n",
    "    mutate(pred=ifelse(prob < 0.5, 0, 1))"
   ]
  },
  {
   "cell_type": "code",
   "execution_count": 28,
   "metadata": {},
   "outputs": [],
   "source": [
    "scoredCAS3 <- as.casTable(conn, scoredLogisticR3, casOut=list(name=\"scoredLogisticR_3_Q3_a1638c70-8ee0-4d2b-9892-c7f892e63f2c\", caslib=\"PUBLIC\", promote=TRUE))"
   ]
  },
  {
   "cell_type": "code",
   "execution_count": 29,
   "metadata": {},
   "outputs": [],
   "source": [
    "score4 <- to.data.frame(to.casDataFrame(defCasTable(conn,caslib=currentCaslib, 'READMISSIONSSCORED_4')))"
   ]
  },
  {
   "cell_type": "code",
   "execution_count": 30,
   "metadata": {},
   "outputs": [],
   "source": [
    "predictLogistic4 <- predict(R_logistic, score4, type=\"response\")\n",
    "scoredLogisticR4 <- cbind(score4, prob = predictLogistic4)\n",
    "scoredLogisticR4 <- scoredLogisticR4 %>%\n",
    "    mutate(pred=ifelse(prob < 0.5, 0, 1))"
   ]
  },
  {
   "cell_type": "code",
   "execution_count": 31,
   "metadata": {},
   "outputs": [],
   "source": [
    "scoredCAS4 <- as.casTable(conn, scoredLogisticR4, casOut=list(name=\"scoredLogisticR_4_Q4_a1638c70-8ee0-4d2b-9892-c7f892e63f2c\", caslib=\"PUBLIC\", promote=TRUE))"
   ]
  },
  {
   "cell_type": "markdown",
   "metadata": {},
   "source": [
    "### End the CAS session"
   ]
  },
  {
   "cell_type": "code",
   "execution_count": 32,
   "metadata": {},
   "outputs": [],
   "source": [
    "cas.session.endSession(conn)"
   ]
  }
 ],
 "metadata": {
  "kernelspec": {
   "display_name": "R",
   "language": "R",
   "name": "ir"
  },
  "language_info": {
   "codemirror_mode": "r",
   "file_extension": ".r",
   "mimetype": "text/x-r-source",
   "name": "R",
   "pygments_lexer": "r",
   "version": "3.5.1"
  }
 },
 "nbformat": 4,
 "nbformat_minor": 2
}
